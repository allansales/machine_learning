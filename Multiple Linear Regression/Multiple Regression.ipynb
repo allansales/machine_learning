{
 "cells": [
  {
   "cell_type": "markdown",
   "metadata": {},
   "source": [
    "# Multiple Linear Regression\n",
    "\n",
    "Exercício 2 referente à disciplina de Machine Learning."
   ]
  },
  {
   "cell_type": "code",
   "execution_count": 93,
   "metadata": {
    "collapsed": true
   },
   "outputs": [],
   "source": [
    "%matplotlib inline"
   ]
  },
  {
   "cell_type": "markdown",
   "metadata": {
    "collapsed": false
   },
   "source": [
    "### Scikit learning multiple regression\n"
   ]
  },
  {
   "cell_type": "code",
   "execution_count": 109,
   "metadata": {
    "collapsed": false
   },
   "outputs": [
    {
     "name": "stdout",
     "output_type": "stream",
     "text": [
      "Scikit regression intercept: 1.73771151379\n",
      "Scikit regression coefficients: [ 0.10304143  0.0464367   0.16409834  0.38117843  0.02027816]\n"
     ]
    }
   ],
   "source": [
    "import numpy as np\n",
    "from sklearn import datasets, linear_model\n",
    "\n",
    "grades = np.genfromtxt('sample_treino.csv', delimiter=',')\n",
    "\n",
    "grades_x = grades[1:, 0:5]\n",
    "cra = grades[1:, 5]\n",
    "\n",
    "regr = linear_model.LinearRegression()\n",
    "regr.fit(grades_x, cra)\n",
    "\n",
    "print \"Scikit regression intercept: {0}\".format(regr.intercept_)\n",
    "print \"Scikit regression coefficients: {0}\".format(regr.coef_)"
   ]
  },
  {
   "cell_type": "markdown",
   "metadata": {
    "collapsed": true
   },
   "source": [
    "### Vectorized multiple regression code"
   ]
  },
  {
   "cell_type": "code",
   "execution_count": 101,
   "metadata": {
    "collapsed": false
   },
   "outputs": [],
   "source": [
    "import numpy as np\n",
    "import time\n",
    "\n",
    "def vector_norm(w):\n",
    "    return np.sqrt(np.sum(w**2))\n",
    "\n",
    "def RSS(w, H, y):\n",
    "    x = (y - H.dot(w))\n",
    "    return(x.transpose().dot(x))\n",
    "\n",
    "def step_gradient(feature, target, w_current, learningRate):\n",
    "    w_gradient = -2*feature.transpose().dot(target - feature.dot(w_current))\n",
    "    new_w = w_current - (learningRate * w_gradient)\n",
    "    \n",
    "    norma = vector_norm(w_gradient)\n",
    "    rss = RSS(new_w, feature, target)\n",
    "    return [new_w, norma, rss]\n",
    "\n",
    "def gradient_descent_runner(feature, target, starting_w, learning_rate, error_tolerance):\n",
    "    w = starting_w\n",
    "    norma = float(\"inf\")\n",
    "    rss_history = []\n",
    "    norma_history = []\n",
    "    \n",
    "    it = 0\n",
    "    while norma > error_tolerance:\n",
    "        it += 1\n",
    "        w, norma, rss = step_gradient(feature, target, w, learning_rate)\n",
    "        if it%10 == 0:\n",
    "            norma_history.append(norma)\n",
    "            rss_history.append(rss)\n",
    "    return [w, norma_history, rss_history]\n",
    "\n",
    "def train_model(feature, target, initial_w, learning_rate, error_tolerance):\n",
    "    w, norma_history, rss_history = gradient_descent_runner(feature, target, initial_w, learning_rate, error_tolerance)\n",
    "    return [w, norma_history, rss_history]\n",
    "\n",
    "def train_test_split(points, split_percent = 1):\n",
    "    initial_w = np.zeros(points.shape[1])\n",
    "\n",
    "    N = len(points)\n",
    "    points = np.c_[np.ones(N), points][1:,:]\n",
    "    N_split = (N-1)*split_percent\n",
    "    n = (initial_w.shape[0])\n",
    "\n",
    "    feature = points[:, 0:n]\n",
    "    feature_train = feature[:N_split,0:n]\n",
    "    feature_test = feature[N_split:N,0:n]\n",
    "    \n",
    "    target = points[:, n]\n",
    "    target_train = target[:N_split]\n",
    "    target_test = target[N_split:N]\n",
    "    \n",
    "    return [feature_train, target_train, feature_test, target_test, initial_w]"
   ]
  },
  {
   "cell_type": "code",
   "execution_count": 110,
   "metadata": {
    "collapsed": false,
    "scrolled": false
   },
   "outputs": [
    {
     "name": "stdout",
     "output_type": "stream",
     "text": [
      "--- 7.89198303223 seconds ---\n",
      "Scikit regression coefficients: [ 1.7377107   0.10304145  0.04643674  0.16409834  0.38117847  0.02027817]\n"
     ]
    }
   ],
   "source": [
    "learning_rate = 0.00003\n",
    "error_tolerance = 0.000001\n",
    "\n",
    "points = np.genfromtxt('sample_treino.csv', delimiter=',')\n",
    "feature_train, target_train, feature_test, target_test, initial_w = train_test_split(points, 1)\n",
    "\n",
    "start_time = time.time()\n",
    "w, norma_history, rss_history = train_model(feature_train, target_train, initial_w, learning_rate, error_tolerance)\n",
    "print(\"--- %s seconds ---\" % (time.time() - start_time))\n",
    "\n",
    "print \"Scikit regression coefficients: {0}\".format(w)"
   ]
  },
  {
   "cell_type": "markdown",
   "metadata": {},
   "source": [
    "Plot of iterations x RSS and Norm through the training."
   ]
  },
  {
   "cell_type": "code",
   "execution_count": 107,
   "metadata": {
    "collapsed": false
   },
   "outputs": [
    {
     "data": {
      "text/plain": [
       "<matplotlib.legend.Legend at 0x7fdf163b03d0>"
      ]
     },
     "execution_count": 107,
     "metadata": {},
     "output_type": "execute_result"
    },
    {
     "data": {
      "image/png": "[encoded data removed]",
      "text/plain": [
       "<matplotlib.figure.Figure at 0x7fdf15a209d0>"
      ]
     },
     "metadata": {},
     "output_type": "display_data"
    }
   ],
   "source": [
    "import matplotlib.pyplot as plt\n",
    "\n",
    "plt.plot(norma_history[0:100], label = \"Norm\")\n",
    "plt.plot(rss_history[0:100], label = \"RSS\")\n",
    "plt.xlabel(\"Iteration\")\n",
    "plt.ylabel(\"Values\")\n",
    "plt.legend(bbox_to_anchor=(1.05, 1), loc=2, borderaxespad=0.)\n"
   ]
  },
  {
   "cell_type": "markdown",
   "metadata": {
    "collapsed": true
   },
   "source": [
    "### Train and test using the multiple linear regression model"
   ]
  },
  {
   "cell_type": "markdown",
   "metadata": {},
   "source": [
    "Next, we build a model using 80% of data to train and 20% to test and then we compare the predictions results with the real CRA."
   ]
  },
  {
   "cell_type": "code",
   "execution_count": 99,
   "metadata": {
    "collapsed": false
   },
   "outputs": [
    {
     "name": "stderr",
     "output_type": "stream",
     "text": [
      "/home/allan/anaconda2/lib/python2.7/site-packages/ipykernel/__main__.py:47: VisibleDeprecationWarning: using a non-integer number instead of an integer will result in an error in the future\n",
      "/home/allan/anaconda2/lib/python2.7/site-packages/ipykernel/__main__.py:48: VisibleDeprecationWarning: using a non-integer number instead of an integer will result in an error in the future\n",
      "/home/allan/anaconda2/lib/python2.7/site-packages/ipykernel/__main__.py:51: VisibleDeprecationWarning: using a non-integer number instead of an integer will result in an error in the future\n",
      "/home/allan/anaconda2/lib/python2.7/site-packages/ipykernel/__main__.py:52: VisibleDeprecationWarning: using a non-integer number instead of an integer will result in an error in the future\n"
     ]
    },
    {
     "name": "stdout",
     "output_type": "stream",
     "text": [
      "--- 9.92107486725 seconds ---\n",
      "[ 1.54853884  0.02030763  0.11595122  0.13799946  0.380147    0.08467159]\n"
     ]
    }
   ],
   "source": [
    "learning_rate = 0.00003\n",
    "error_tolerance = 0.000001\n",
    "\n",
    "points = np.genfromtxt('sample_treino.csv', delimiter=',')\n",
    "feature_train, target_train, feature_test, target_test, initial_w = train_test_split(points, 0.8)\n",
    "\n",
    "start_time = time.time()\n",
    "w, norma_history, rss_history = train_model(feature_train, target_train, initial_w, learning_rate, error_tolerance)\n",
    "print(\"--- %s seconds ---\" % (time.time() - start_time))\n",
    "print w"
   ]
  },
  {
   "cell_type": "markdown",
   "metadata": {},
   "source": [
    "Predictions x Real CRA:"
   ]
  },
  {
   "cell_type": "code",
   "execution_count": 100,
   "metadata": {
    "collapsed": false,
    "scrolled": true
   },
   "outputs": [
    {
     "name": "stdout",
     "output_type": "stream",
     "text": [
      "[[ 6.61020808  7.26746988]\n",
      " [ 6.15796598  7.25057471]\n",
      " [ 8.52995589  8.85058824]\n",
      " [ 7.12710992  6.41584158]\n",
      " [ 8.26004024  8.80235294]\n",
      " [ 7.16647488  5.7588785 ]\n",
      " [ 8.21199057  7.66923077]\n",
      " [ 6.77829935  5.58165138]\n",
      " [ 7.37118743  7.20786517]\n",
      " [ 7.47101269  6.90526316]\n",
      " [ 7.60018109  6.93195876]\n",
      " [ 6.78881258  7.40117647]\n",
      " [ 7.09427293  6.99550562]\n",
      " [ 6.83516398  6.9862069 ]\n",
      " [ 7.11692905  7.10224719]\n",
      " [ 6.82316871  7.28202247]\n",
      " [ 8.30854665  8.92470588]\n",
      " [ 7.26936984  7.3       ]]\n"
     ]
    }
   ],
   "source": [
    "predicted = np.sum(feature_test * w, axis = 1)\n",
    "predict_x_real_cra = np.c_[predicted, target_test]\n",
    "\n",
    "print predict_x_real_cra"
   ]
  }
 ],
 "metadata": {
  "anaconda-cloud": {},
  "kernelspec": {
   "display_name": "Python [default]",
   "language": "python",
   "name": "python2"
  },
  "language_info": {
   "codemirror_mode": {
    "name": "ipython",
    "version": 2
   },
   "file_extension": ".py",
   "mimetype": "text/x-python",
   "name": "python",
   "nbconvert_exporter": "python",
   "pygments_lexer": "ipython2",
   "version": "2.7.12"
  }
 },
 "nbformat": 4,
 "nbformat_minor": 1
}
